{
 "cells": [
  {
   "cell_type": "code",
   "execution_count": 509,
   "metadata": {},
   "outputs": [],
   "source": [
    "import numpy as np\n",
    "import matplotlib.pyplot as plt\n",
    "import pandas as pd\n",
    "from sklearn.linear_model import LinearRegression\n",
    "from sklearn.preprocessing import PolynomialFeatures\n",
    "from sklearn.linear_model import SGDRegressor\n",
    "import seaborn as sns\n",
    "from sklearn.pipeline import Pipeline\n",
    "from sklearn.metrics import mean_squared_error, r2_score\n",
    "from sklearn.model_selection import train_test_split\n",
    "from sklearn.model_selection import cross_val_score\n",
    "from sklearn.linear_model import Lasso\n",
    "from sklearn.preprocessing import MinMaxScaler, OneHotEncoder\n",
    "from sklearn.compose import ColumnTransformer\n",
    "from sklearn.impute import SimpleImputer\n",
    "from sklearn.model_selection import GridSearchCV\n",
    "from sklearn.ensemble import RandomForestRegressor\n",
    "from sklearn.feature_selection import SelectFromModel\n",
    "from sklearn.feature_extraction.text import CountVectorizer\n",
    "\n",
    "\n",
    "plt.rcParams['figure.figsize'] = (25,5)"
   ]
  },
  {
   "attachments": {},
   "cell_type": "markdown",
   "metadata": {},
   "source": [
    "# Assignment 2 - Regression\n",
    "### Predict the TOTAL COMPENSATION for this year. \n",
    "\n",
    "The data file provided is a salary survey for tech workers in Europe. We want to predict the total amount of compensation they bring in each year, based off of the details of their work. \n",
    "\n",
    "Some notes that will be important:\n",
    "<ul>\n",
    "    <li>The total compensation will need to be constructed, there is a column for salary, \"Yearly brutto salary (without bonus and stocks) in EUR\", as well as a column for bonus compensation, \"Yearly bonus + stocks in EUR\". \n",
    "    <li>Some categorical variables will need some work, and there isn't generally an exact answer. The main concern is things with categories that have a bunch of values with a very small count. For example, if there is only 1 person in City X, then that value likely needs to be addressed. We don't want it encoded into a new column of one 1 and thousands of 0s. \n",
    "    <li>There is an article exploring some of the data here: https://www.asdcode.de/2021/01/it-salary-survey-december-2020.html\n",
    "    <li>Imputation and a bit of data manipulation will be required. \n",
    "    <li>Use any regression method you'd like. Some ones are closely related to what we've done, you may want to look at them, e.g. ExtraTreesRegressor. \n",
    "    <li>Initial accurracy, and potentially final accuracy, may not be great. When I made a plain model will little optimization the errors were large and the R2 was low. There is lots of room for optimization. \n",
    "    <li>Research challenge - try some work on the target, look into TransformedTargetRegressor and see if that helps. Recall in stats when we had skewed distributions... Maybe it helps, maybe it doesn't. \n",
    "    <li>EDA and data prep are up to you - you'll probably need to do a little exploring to figure out what cleanup is needed. When I did it, I did things kind of iteratively when I did it. For example, look at the value counts, figure out how to treat the different categories, clean something up, look at the results, potentially repeat if needed. After you figure out what needs to be done, you may be able to take some of those steps and incorporate them into a pipeline to be cleaner....\n",
    "    <li><b>CRITICAL - Please make sure your code runs with RUN ALL. It should load the data that you're given, do all the processing, and spit out results. Comment out or remove anything that you've cleaned up and don't need - e.g. if you scaled a value manually, then moved that into a pipeline, don't leave the original scaling code active when the file is run.</b>\n",
    "</ul>\n",
    "\n",
    "### Details and Deliverables\n",
    "\n",
    "You'll need to build code to produce the predictions. In particular, there's a few things that'll be marked:\n",
    "<ul>\n",
    "    <li>Please add a markdown cell at the bottom, and put in a few notes addressing the following:\n",
    "    <ul>\n",
    "        <li> Accuracy of your models with/without feature selection. Include both train/test for each. Please use R2 and RMSE. \n",
    "        <li> Feature Selection - Please identify what you did for feature selection. No need for a long explaination, something along the lines of \"I did X, and the result was that 4 features were removed\". Try at least 2 things. \n",
    "        <li> Hyperparameter Changes / Grid Search Improvements. What did you try, and why. Similar explaination to above, short. \n",
    "        <li> Overall this section should be roughly as long as this intro block - just outline what the results were, what you did to improve, and the results after. \n",
    "        <li> If you could use titles/bullet points I'd really appreciate it. \n",
    "    </ul>\n",
    "    <li>Grade Breakdown:\n",
    "    <ul>\n",
    "        <li> Code is readable, there are comments: 20%\n",
    "        <li> Explaination as defined above: 60% (20% each point)\n",
    "        <li> Accuracy: 20% As compared to everyone else. This will be generously graded, I won't be surprised if overall accuracy is low for most people. \n",
    "    </ul>\n",
    "</ul>"
   ]
  },
  {
   "cell_type": "code",
   "execution_count": 510,
   "metadata": {},
   "outputs": [
    {
     "data": {
      "text/html": [
       "<div>\n",
       "<style scoped>\n",
       "    .dataframe tbody tr th:only-of-type {\n",
       "        vertical-align: middle;\n",
       "    }\n",
       "\n",
       "    .dataframe tbody tr th {\n",
       "        vertical-align: top;\n",
       "    }\n",
       "\n",
       "    .dataframe thead th {\n",
       "        text-align: right;\n",
       "    }\n",
       "</style>\n",
       "<table border=\"1\" class=\"dataframe\">\n",
       "  <thead>\n",
       "    <tr style=\"text-align: right;\">\n",
       "      <th></th>\n",
       "      <th>count</th>\n",
       "      <th>unique</th>\n",
       "      <th>top</th>\n",
       "      <th>freq</th>\n",
       "      <th>mean</th>\n",
       "      <th>std</th>\n",
       "      <th>min</th>\n",
       "      <th>25%</th>\n",
       "      <th>50%</th>\n",
       "      <th>75%</th>\n",
       "      <th>max</th>\n",
       "    </tr>\n",
       "  </thead>\n",
       "  <tbody>\n",
       "    <tr>\n",
       "      <th>Timestamp</th>\n",
       "      <td>1253</td>\n",
       "      <td>1248</td>\n",
       "      <td>24/11/2020 13:55:19</td>\n",
       "      <td>2</td>\n",
       "      <td>NaN</td>\n",
       "      <td>NaN</td>\n",
       "      <td>NaN</td>\n",
       "      <td>NaN</td>\n",
       "      <td>NaN</td>\n",
       "      <td>NaN</td>\n",
       "      <td>NaN</td>\n",
       "    </tr>\n",
       "    <tr>\n",
       "      <th>Age</th>\n",
       "      <td>1226.0</td>\n",
       "      <td>NaN</td>\n",
       "      <td>NaN</td>\n",
       "      <td>NaN</td>\n",
       "      <td>32.509788</td>\n",
       "      <td>5.663804</td>\n",
       "      <td>20.0</td>\n",
       "      <td>29.0</td>\n",
       "      <td>32.0</td>\n",
       "      <td>35.0</td>\n",
       "      <td>69.0</td>\n",
       "    </tr>\n",
       "    <tr>\n",
       "      <th>Gender</th>\n",
       "      <td>1243</td>\n",
       "      <td>3</td>\n",
       "      <td>Male</td>\n",
       "      <td>1049</td>\n",
       "      <td>NaN</td>\n",
       "      <td>NaN</td>\n",
       "      <td>NaN</td>\n",
       "      <td>NaN</td>\n",
       "      <td>NaN</td>\n",
       "      <td>NaN</td>\n",
       "      <td>NaN</td>\n",
       "    </tr>\n",
       "    <tr>\n",
       "      <th>City</th>\n",
       "      <td>1253</td>\n",
       "      <td>119</td>\n",
       "      <td>Berlin</td>\n",
       "      <td>681</td>\n",
       "      <td>NaN</td>\n",
       "      <td>NaN</td>\n",
       "      <td>NaN</td>\n",
       "      <td>NaN</td>\n",
       "      <td>NaN</td>\n",
       "      <td>NaN</td>\n",
       "      <td>NaN</td>\n",
       "    </tr>\n",
       "    <tr>\n",
       "      <th>Position</th>\n",
       "      <td>1247</td>\n",
       "      <td>148</td>\n",
       "      <td>Software Engineer</td>\n",
       "      <td>387</td>\n",
       "      <td>NaN</td>\n",
       "      <td>NaN</td>\n",
       "      <td>NaN</td>\n",
       "      <td>NaN</td>\n",
       "      <td>NaN</td>\n",
       "      <td>NaN</td>\n",
       "      <td>NaN</td>\n",
       "    </tr>\n",
       "    <tr>\n",
       "      <th>Total years of experience</th>\n",
       "      <td>1237</td>\n",
       "      <td>48</td>\n",
       "      <td>10</td>\n",
       "      <td>138</td>\n",
       "      <td>NaN</td>\n",
       "      <td>NaN</td>\n",
       "      <td>NaN</td>\n",
       "      <td>NaN</td>\n",
       "      <td>NaN</td>\n",
       "      <td>NaN</td>\n",
       "      <td>NaN</td>\n",
       "    </tr>\n",
       "    <tr>\n",
       "      <th>Years of experience in Germany</th>\n",
       "      <td>1221</td>\n",
       "      <td>53</td>\n",
       "      <td>2</td>\n",
       "      <td>195</td>\n",
       "      <td>NaN</td>\n",
       "      <td>NaN</td>\n",
       "      <td>NaN</td>\n",
       "      <td>NaN</td>\n",
       "      <td>NaN</td>\n",
       "      <td>NaN</td>\n",
       "      <td>NaN</td>\n",
       "    </tr>\n",
       "    <tr>\n",
       "      <th>Seniority level</th>\n",
       "      <td>1241</td>\n",
       "      <td>24</td>\n",
       "      <td>Senior</td>\n",
       "      <td>565</td>\n",
       "      <td>NaN</td>\n",
       "      <td>NaN</td>\n",
       "      <td>NaN</td>\n",
       "      <td>NaN</td>\n",
       "      <td>NaN</td>\n",
       "      <td>NaN</td>\n",
       "      <td>NaN</td>\n",
       "    </tr>\n",
       "    <tr>\n",
       "      <th>Your main technology / programming language</th>\n",
       "      <td>1126</td>\n",
       "      <td>256</td>\n",
       "      <td>Java</td>\n",
       "      <td>184</td>\n",
       "      <td>NaN</td>\n",
       "      <td>NaN</td>\n",
       "      <td>NaN</td>\n",
       "      <td>NaN</td>\n",
       "      <td>NaN</td>\n",
       "      <td>NaN</td>\n",
       "      <td>NaN</td>\n",
       "    </tr>\n",
       "    <tr>\n",
       "      <th>Other technologies/programming languages you use often</th>\n",
       "      <td>1096</td>\n",
       "      <td>562</td>\n",
       "      <td>Javascript / Typescript</td>\n",
       "      <td>44</td>\n",
       "      <td>NaN</td>\n",
       "      <td>NaN</td>\n",
       "      <td>NaN</td>\n",
       "      <td>NaN</td>\n",
       "      <td>NaN</td>\n",
       "      <td>NaN</td>\n",
       "      <td>NaN</td>\n",
       "    </tr>\n",
       "    <tr>\n",
       "      <th>Yearly brutto salary (without bonus and stocks) in EUR</th>\n",
       "      <td>1253.0</td>\n",
       "      <td>NaN</td>\n",
       "      <td>NaN</td>\n",
       "      <td>NaN</td>\n",
       "      <td>80279042.578715</td>\n",
       "      <td>2825061107.590495</td>\n",
       "      <td>10001.0</td>\n",
       "      <td>58800.0</td>\n",
       "      <td>70000.0</td>\n",
       "      <td>80000.0</td>\n",
       "      <td>99999999999.0</td>\n",
       "    </tr>\n",
       "    <tr>\n",
       "      <th>Yearly bonus + stocks in EUR</th>\n",
       "      <td>829</td>\n",
       "      <td>168</td>\n",
       "      <td>0</td>\n",
       "      <td>227</td>\n",
       "      <td>NaN</td>\n",
       "      <td>NaN</td>\n",
       "      <td>NaN</td>\n",
       "      <td>NaN</td>\n",
       "      <td>NaN</td>\n",
       "      <td>NaN</td>\n",
       "      <td>NaN</td>\n",
       "    </tr>\n",
       "    <tr>\n",
       "      <th>Number of vacation days</th>\n",
       "      <td>1185</td>\n",
       "      <td>45</td>\n",
       "      <td>30</td>\n",
       "      <td>488</td>\n",
       "      <td>NaN</td>\n",
       "      <td>NaN</td>\n",
       "      <td>NaN</td>\n",
       "      <td>NaN</td>\n",
       "      <td>NaN</td>\n",
       "      <td>NaN</td>\n",
       "      <td>NaN</td>\n",
       "    </tr>\n",
       "    <tr>\n",
       "      <th>Employment status</th>\n",
       "      <td>1236</td>\n",
       "      <td>11</td>\n",
       "      <td>Full-time employee</td>\n",
       "      <td>1190</td>\n",
       "      <td>NaN</td>\n",
       "      <td>NaN</td>\n",
       "      <td>NaN</td>\n",
       "      <td>NaN</td>\n",
       "      <td>NaN</td>\n",
       "      <td>NaN</td>\n",
       "      <td>NaN</td>\n",
       "    </tr>\n",
       "    <tr>\n",
       "      <th>Сontract duration</th>\n",
       "      <td>1224</td>\n",
       "      <td>3</td>\n",
       "      <td>Unlimited contract</td>\n",
       "      <td>1159</td>\n",
       "      <td>NaN</td>\n",
       "      <td>NaN</td>\n",
       "      <td>NaN</td>\n",
       "      <td>NaN</td>\n",
       "      <td>NaN</td>\n",
       "      <td>NaN</td>\n",
       "      <td>NaN</td>\n",
       "    </tr>\n",
       "    <tr>\n",
       "      <th>Main language at work</th>\n",
       "      <td>1237</td>\n",
       "      <td>14</td>\n",
       "      <td>English</td>\n",
       "      <td>1020</td>\n",
       "      <td>NaN</td>\n",
       "      <td>NaN</td>\n",
       "      <td>NaN</td>\n",
       "      <td>NaN</td>\n",
       "      <td>NaN</td>\n",
       "      <td>NaN</td>\n",
       "      <td>NaN</td>\n",
       "    </tr>\n",
       "    <tr>\n",
       "      <th>Company size</th>\n",
       "      <td>1235</td>\n",
       "      <td>5</td>\n",
       "      <td>1000+</td>\n",
       "      <td>448</td>\n",
       "      <td>NaN</td>\n",
       "      <td>NaN</td>\n",
       "      <td>NaN</td>\n",
       "      <td>NaN</td>\n",
       "      <td>NaN</td>\n",
       "      <td>NaN</td>\n",
       "      <td>NaN</td>\n",
       "    </tr>\n",
       "    <tr>\n",
       "      <th>Company type</th>\n",
       "      <td>1228</td>\n",
       "      <td>63</td>\n",
       "      <td>Product</td>\n",
       "      <td>760</td>\n",
       "      <td>NaN</td>\n",
       "      <td>NaN</td>\n",
       "      <td>NaN</td>\n",
       "      <td>NaN</td>\n",
       "      <td>NaN</td>\n",
       "      <td>NaN</td>\n",
       "      <td>NaN</td>\n",
       "    </tr>\n",
       "  </tbody>\n",
       "</table>\n",
       "</div>"
      ],
      "text/plain": [
       "                                                     count unique  \\\n",
       "Timestamp                                             1253   1248   \n",
       "Age                                                 1226.0    NaN   \n",
       "Gender                                                1243      3   \n",
       "City                                                  1253    119   \n",
       "Position                                              1247    148   \n",
       "Total years of experience                             1237     48   \n",
       "Years of experience in Germany                        1221     53   \n",
       "Seniority level                                       1241     24   \n",
       "Your main technology / programming language           1126    256   \n",
       "Other technologies/programming languages you us...    1096    562   \n",
       "Yearly brutto salary (without bonus and stocks)...  1253.0    NaN   \n",
       "Yearly bonus + stocks in EUR                           829    168   \n",
       "Number of vacation days                               1185     45   \n",
       "Employment status                                     1236     11   \n",
       "Сontract duration                                     1224      3   \n",
       "Main language at work                                 1237     14   \n",
       "Company size                                          1235      5   \n",
       "Company type                                          1228     63   \n",
       "\n",
       "                                                                        top  \\\n",
       "Timestamp                                               24/11/2020 13:55:19   \n",
       "Age                                                                     NaN   \n",
       "Gender                                                                 Male   \n",
       "City                                                                 Berlin   \n",
       "Position                                                  Software Engineer   \n",
       "Total years of experience                                                10   \n",
       "Years of experience in Germany                                            2   \n",
       "Seniority level                                                      Senior   \n",
       "Your main technology / programming language                            Java   \n",
       "Other technologies/programming languages you us...  Javascript / Typescript   \n",
       "Yearly brutto salary (without bonus and stocks)...                      NaN   \n",
       "Yearly bonus + stocks in EUR                                              0   \n",
       "Number of vacation days                                                  30   \n",
       "Employment status                                        Full-time employee   \n",
       "Сontract duration                                        Unlimited contract   \n",
       "Main language at work                                               English   \n",
       "Company size                                                          1000+   \n",
       "Company type                                                        Product   \n",
       "\n",
       "                                                    freq             mean  \\\n",
       "Timestamp                                              2              NaN   \n",
       "Age                                                  NaN        32.509788   \n",
       "Gender                                              1049              NaN   \n",
       "City                                                 681              NaN   \n",
       "Position                                             387              NaN   \n",
       "Total years of experience                            138              NaN   \n",
       "Years of experience in Germany                       195              NaN   \n",
       "Seniority level                                      565              NaN   \n",
       "Your main technology / programming language          184              NaN   \n",
       "Other technologies/programming languages you us...    44              NaN   \n",
       "Yearly brutto salary (without bonus and stocks)...   NaN  80279042.578715   \n",
       "Yearly bonus + stocks in EUR                         227              NaN   \n",
       "Number of vacation days                              488              NaN   \n",
       "Employment status                                   1190              NaN   \n",
       "Сontract duration                                   1159              NaN   \n",
       "Main language at work                               1020              NaN   \n",
       "Company size                                         448              NaN   \n",
       "Company type                                         760              NaN   \n",
       "\n",
       "                                                                  std  \\\n",
       "Timestamp                                                         NaN   \n",
       "Age                                                          5.663804   \n",
       "Gender                                                            NaN   \n",
       "City                                                              NaN   \n",
       "Position                                                          NaN   \n",
       "Total years of experience                                         NaN   \n",
       "Years of experience in Germany                                    NaN   \n",
       "Seniority level                                                   NaN   \n",
       "Your main technology / programming language                       NaN   \n",
       "Other technologies/programming languages you us...                NaN   \n",
       "Yearly brutto salary (without bonus and stocks)...  2825061107.590495   \n",
       "Yearly bonus + stocks in EUR                                      NaN   \n",
       "Number of vacation days                                           NaN   \n",
       "Employment status                                                 NaN   \n",
       "Сontract duration                                                 NaN   \n",
       "Main language at work                                             NaN   \n",
       "Company size                                                      NaN   \n",
       "Company type                                                      NaN   \n",
       "\n",
       "                                                        min      25%      50%  \\\n",
       "Timestamp                                               NaN      NaN      NaN   \n",
       "Age                                                    20.0     29.0     32.0   \n",
       "Gender                                                  NaN      NaN      NaN   \n",
       "City                                                    NaN      NaN      NaN   \n",
       "Position                                                NaN      NaN      NaN   \n",
       "Total years of experience                               NaN      NaN      NaN   \n",
       "Years of experience in Germany                          NaN      NaN      NaN   \n",
       "Seniority level                                         NaN      NaN      NaN   \n",
       "Your main technology / programming language             NaN      NaN      NaN   \n",
       "Other technologies/programming languages you us...      NaN      NaN      NaN   \n",
       "Yearly brutto salary (without bonus and stocks)...  10001.0  58800.0  70000.0   \n",
       "Yearly bonus + stocks in EUR                            NaN      NaN      NaN   \n",
       "Number of vacation days                                 NaN      NaN      NaN   \n",
       "Employment status                                       NaN      NaN      NaN   \n",
       "Сontract duration                                       NaN      NaN      NaN   \n",
       "Main language at work                                   NaN      NaN      NaN   \n",
       "Company size                                            NaN      NaN      NaN   \n",
       "Company type                                            NaN      NaN      NaN   \n",
       "\n",
       "                                                        75%            max  \n",
       "Timestamp                                               NaN            NaN  \n",
       "Age                                                    35.0           69.0  \n",
       "Gender                                                  NaN            NaN  \n",
       "City                                                    NaN            NaN  \n",
       "Position                                                NaN            NaN  \n",
       "Total years of experience                               NaN            NaN  \n",
       "Years of experience in Germany                          NaN            NaN  \n",
       "Seniority level                                         NaN            NaN  \n",
       "Your main technology / programming language             NaN            NaN  \n",
       "Other technologies/programming languages you us...      NaN            NaN  \n",
       "Yearly brutto salary (without bonus and stocks)...  80000.0  99999999999.0  \n",
       "Yearly bonus + stocks in EUR                            NaN            NaN  \n",
       "Number of vacation days                                 NaN            NaN  \n",
       "Employment status                                       NaN            NaN  \n",
       "Сontract duration                                       NaN            NaN  \n",
       "Main language at work                                   NaN            NaN  \n",
       "Company size                                            NaN            NaN  \n",
       "Company type                                            NaN            NaN  "
      ]
     },
     "execution_count": 510,
     "metadata": {},
     "output_type": "execute_result"
    }
   ],
   "source": [
    "#Load Data\n",
    "df = pd.read_csv(\"data/Euro_Salary.csv\")\n",
    "df.describe(include=\"all\").T"
   ]
  },
  {
   "cell_type": "code",
   "execution_count": 511,
   "metadata": {},
   "outputs": [
    {
     "data": {
      "text/html": [
       "<div>\n",
       "<style scoped>\n",
       "    .dataframe tbody tr th:only-of-type {\n",
       "        vertical-align: middle;\n",
       "    }\n",
       "\n",
       "    .dataframe tbody tr th {\n",
       "        vertical-align: top;\n",
       "    }\n",
       "\n",
       "    .dataframe thead th {\n",
       "        text-align: right;\n",
       "    }\n",
       "</style>\n",
       "<table border=\"1\" class=\"dataframe\">\n",
       "  <thead>\n",
       "    <tr style=\"text-align: right;\">\n",
       "      <th></th>\n",
       "      <th>Timestamp</th>\n",
       "      <th>Age</th>\n",
       "      <th>Gender</th>\n",
       "      <th>City</th>\n",
       "      <th>Position</th>\n",
       "      <th>Total years of experience</th>\n",
       "      <th>Years of experience in Germany</th>\n",
       "      <th>Seniority level</th>\n",
       "      <th>Your main technology / programming language</th>\n",
       "      <th>Other technologies/programming languages you use often</th>\n",
       "      <th>Yearly brutto salary (without bonus and stocks) in EUR</th>\n",
       "      <th>Yearly bonus + stocks in EUR</th>\n",
       "      <th>Number of vacation days</th>\n",
       "      <th>Employment status</th>\n",
       "      <th>Сontract duration</th>\n",
       "      <th>Main language at work</th>\n",
       "      <th>Company size</th>\n",
       "      <th>Company type</th>\n",
       "    </tr>\n",
       "  </thead>\n",
       "  <tbody>\n",
       "    <tr>\n",
       "      <th>0</th>\n",
       "      <td>24/11/2020 11:14:15</td>\n",
       "      <td>26.0</td>\n",
       "      <td>Male</td>\n",
       "      <td>Munich</td>\n",
       "      <td>Software Engineer</td>\n",
       "      <td>5</td>\n",
       "      <td>3</td>\n",
       "      <td>Senior</td>\n",
       "      <td>TypeScript</td>\n",
       "      <td>Kotlin, Javascript / Typescript</td>\n",
       "      <td>80000.0</td>\n",
       "      <td>5000</td>\n",
       "      <td>30</td>\n",
       "      <td>Full-time employee</td>\n",
       "      <td>Unlimited contract</td>\n",
       "      <td>English</td>\n",
       "      <td>51-100</td>\n",
       "      <td>Product</td>\n",
       "    </tr>\n",
       "    <tr>\n",
       "      <th>1</th>\n",
       "      <td>24/11/2020 11:14:16</td>\n",
       "      <td>26.0</td>\n",
       "      <td>Male</td>\n",
       "      <td>Berlin</td>\n",
       "      <td>Backend Developer</td>\n",
       "      <td>7</td>\n",
       "      <td>4</td>\n",
       "      <td>Senior</td>\n",
       "      <td>Ruby</td>\n",
       "      <td>NaN</td>\n",
       "      <td>80000.0</td>\n",
       "      <td>NaN</td>\n",
       "      <td>28</td>\n",
       "      <td>Full-time employee</td>\n",
       "      <td>Unlimited contract</td>\n",
       "      <td>English</td>\n",
       "      <td>101-1000</td>\n",
       "      <td>Product</td>\n",
       "    </tr>\n",
       "    <tr>\n",
       "      <th>2</th>\n",
       "      <td>24/11/2020 11:14:21</td>\n",
       "      <td>29.0</td>\n",
       "      <td>Male</td>\n",
       "      <td>Berlin</td>\n",
       "      <td>Software Engineer</td>\n",
       "      <td>12</td>\n",
       "      <td>6</td>\n",
       "      <td>Lead</td>\n",
       "      <td>Javascript / Typescript</td>\n",
       "      <td>Javascript / Typescript, Docker</td>\n",
       "      <td>120000.0</td>\n",
       "      <td>120000</td>\n",
       "      <td>30</td>\n",
       "      <td>Self-employed (freelancer)</td>\n",
       "      <td>Temporary contract</td>\n",
       "      <td>English</td>\n",
       "      <td>101-1000</td>\n",
       "      <td>Product</td>\n",
       "    </tr>\n",
       "    <tr>\n",
       "      <th>3</th>\n",
       "      <td>24/11/2020 11:15:24</td>\n",
       "      <td>28.0</td>\n",
       "      <td>Male</td>\n",
       "      <td>Berlin</td>\n",
       "      <td>Frontend Developer</td>\n",
       "      <td>4</td>\n",
       "      <td>1</td>\n",
       "      <td>Junior</td>\n",
       "      <td>Javascript</td>\n",
       "      <td>NaN</td>\n",
       "      <td>54000.0</td>\n",
       "      <td>NaN</td>\n",
       "      <td>24</td>\n",
       "      <td>Full-time employee</td>\n",
       "      <td>Unlimited contract</td>\n",
       "      <td>English</td>\n",
       "      <td>51-100</td>\n",
       "      <td>Startup</td>\n",
       "    </tr>\n",
       "    <tr>\n",
       "      <th>4</th>\n",
       "      <td>24/11/2020 11:15:46</td>\n",
       "      <td>37.0</td>\n",
       "      <td>Male</td>\n",
       "      <td>Berlin</td>\n",
       "      <td>Backend Developer</td>\n",
       "      <td>17</td>\n",
       "      <td>6</td>\n",
       "      <td>Senior</td>\n",
       "      <td>C# .NET</td>\n",
       "      <td>.NET, SQL, AWS, Docker</td>\n",
       "      <td>62000.0</td>\n",
       "      <td>NaN</td>\n",
       "      <td>29</td>\n",
       "      <td>Full-time employee</td>\n",
       "      <td>Unlimited contract</td>\n",
       "      <td>English</td>\n",
       "      <td>101-1000</td>\n",
       "      <td>Product</td>\n",
       "    </tr>\n",
       "  </tbody>\n",
       "</table>\n",
       "</div>"
      ],
      "text/plain": [
       "             Timestamp   Age Gender    City           Position   \\\n",
       "0  24/11/2020 11:14:15  26.0   Male  Munich   Software Engineer   \n",
       "1  24/11/2020 11:14:16  26.0   Male  Berlin   Backend Developer   \n",
       "2  24/11/2020 11:14:21  29.0   Male  Berlin   Software Engineer   \n",
       "3  24/11/2020 11:15:24  28.0   Male  Berlin  Frontend Developer   \n",
       "4  24/11/2020 11:15:46  37.0   Male  Berlin   Backend Developer   \n",
       "\n",
       "  Total years of experience Years of experience in Germany Seniority level  \\\n",
       "0                         5                              3          Senior   \n",
       "1                         7                              4          Senior   \n",
       "2                        12                              6            Lead   \n",
       "3                         4                              1          Junior   \n",
       "4                        17                              6          Senior   \n",
       "\n",
       "  Your main technology / programming language  \\\n",
       "0                                  TypeScript   \n",
       "1                                        Ruby   \n",
       "2                     Javascript / Typescript   \n",
       "3                                  Javascript   \n",
       "4                                     C# .NET   \n",
       "\n",
       "  Other technologies/programming languages you use often  \\\n",
       "0                    Kotlin, Javascript / Typescript       \n",
       "1                                                NaN       \n",
       "2                    Javascript / Typescript, Docker       \n",
       "3                                                NaN       \n",
       "4                             .NET, SQL, AWS, Docker       \n",
       "\n",
       "   Yearly brutto salary (without bonus and stocks) in EUR  \\\n",
       "0                                            80000.0        \n",
       "1                                            80000.0        \n",
       "2                                           120000.0        \n",
       "3                                            54000.0        \n",
       "4                                            62000.0        \n",
       "\n",
       "  Yearly bonus + stocks in EUR Number of vacation days  \\\n",
       "0                         5000                      30   \n",
       "1                          NaN                      28   \n",
       "2                       120000                      30   \n",
       "3                          NaN                      24   \n",
       "4                          NaN                      29   \n",
       "\n",
       "            Employment status   Сontract duration Main language at work  \\\n",
       "0          Full-time employee  Unlimited contract               English   \n",
       "1          Full-time employee  Unlimited contract               English   \n",
       "2  Self-employed (freelancer)  Temporary contract               English   \n",
       "3          Full-time employee  Unlimited contract               English   \n",
       "4          Full-time employee  Unlimited contract               English   \n",
       "\n",
       "  Company size Company type  \n",
       "0       51-100      Product  \n",
       "1     101-1000      Product  \n",
       "2     101-1000      Product  \n",
       "3       51-100      Startup  \n",
       "4     101-1000      Product  "
      ]
     },
     "execution_count": 511,
     "metadata": {},
     "output_type": "execute_result"
    }
   ],
   "source": [
    "df.head()"
   ]
  },
  {
   "cell_type": "code",
   "execution_count": 512,
   "metadata": {},
   "outputs": [
    {
     "name": "stdout",
     "output_type": "stream",
     "text": [
      "<class 'pandas.core.frame.DataFrame'>\n",
      "RangeIndex: 1253 entries, 0 to 1252\n",
      "Data columns (total 18 columns):\n",
      " #   Column                                                  Non-Null Count  Dtype  \n",
      "---  ------                                                  --------------  -----  \n",
      " 0   Timestamp                                               1253 non-null   object \n",
      " 1   Age                                                     1226 non-null   float64\n",
      " 2   Gender                                                  1243 non-null   object \n",
      " 3   City                                                    1253 non-null   object \n",
      " 4   Position                                                1247 non-null   object \n",
      " 5   Total years of experience                               1237 non-null   object \n",
      " 6   Years of experience in Germany                          1221 non-null   object \n",
      " 7   Seniority level                                         1241 non-null   object \n",
      " 8   Your main technology / programming language             1126 non-null   object \n",
      " 9   Other technologies/programming languages you use often  1096 non-null   object \n",
      " 10  Yearly brutto salary (without bonus and stocks) in EUR  1253 non-null   float64\n",
      " 11  Yearly bonus + stocks in EUR                            829 non-null    object \n",
      " 12  Number of vacation days                                 1185 non-null   object \n",
      " 13  Employment status                                       1236 non-null   object \n",
      " 14  Сontract duration                                       1224 non-null   object \n",
      " 15  Main language at work                                   1237 non-null   object \n",
      " 16  Company size                                            1235 non-null   object \n",
      " 17  Company type                                            1228 non-null   object \n",
      "dtypes: float64(2), object(16)\n",
      "memory usage: 176.3+ KB\n"
     ]
    }
   ],
   "source": [
    "df.info()"
   ]
  },
  {
   "attachments": {},
   "cell_type": "markdown",
   "metadata": {},
   "source": [
    "### Construct Target ###"
   ]
  },
  {
   "cell_type": "code",
   "execution_count": 513,
   "metadata": {},
   "outputs": [],
   "source": [
    "# Rename some columns to shorter more convenient labels\n",
    "df.rename({'Yearly bonus + stocks in EUR': 'Bonus', 'Yearly brutto salary (without bonus and stocks) in EUR': 'Salary'}, axis=1, inplace=True)"
   ]
  },
  {
   "cell_type": "code",
   "execution_count": 514,
   "metadata": {},
   "outputs": [
    {
     "data": {
      "text/plain": [
       "depends     1\n",
       "bvg only    1\n",
       "Not sure    1\n",
       "Na          1\n",
       "99000       2\n",
       "97000       1\n",
       "96000       1\n",
       "95000       4\n",
       "9450        1\n",
       "9400        1\n",
       "92000       1\n",
       "90000       4\n",
       "9000        4\n",
       "89000       1\n",
       "88000       1\n",
       "87250       1\n",
       "86000       1\n",
       "85000       3\n",
       "8500        1\n",
       "84000       1\n",
       "Name: Bonus, dtype: int64"
      ]
     },
     "execution_count": 514,
     "metadata": {},
     "output_type": "execute_result"
    }
   ],
   "source": [
    "df['Bonus'].value_counts().sort_index(ascending=False).head(20)"
   ]
  },
  {
   "cell_type": "code",
   "execution_count": 515,
   "metadata": {},
   "outputs": [],
   "source": [
    "# Convert string and NaN in bonus columns to zero\n",
    "df['Bonus'] = pd.to_numeric(df['Bonus'], errors='coerce')\n",
    "df['Bonus'] = df['Bonus'].fillna(0)"
   ]
  },
  {
   "cell_type": "code",
   "execution_count": 516,
   "metadata": {},
   "outputs": [],
   "source": [
    "# Target will be Bonus and Salary\n",
    "df['Target'] = df['Bonus'] + df['Salary']\n",
    "df['Target'] = df['Target'].fillna(df['Target'].median())"
   ]
  },
  {
   "cell_type": "code",
   "execution_count": 517,
   "metadata": {},
   "outputs": [
    {
     "name": "stdout",
     "output_type": "stream",
     "text": [
      "Before outliers removed: (1253, 19)\n",
      "After outliers removed: (1240, 20)\n"
     ]
    }
   ],
   "source": [
    "# Incomes over 300000 EUR will be considered outliers\n",
    "print('Before outliers removed:', df.shape)\n",
    "df = df[df['Target'] < 300000]\n",
    "df = df.reset_index()\n",
    "print('After outliers removed:', df.shape)"
   ]
  },
  {
   "cell_type": "code",
   "execution_count": 518,
   "metadata": {},
   "outputs": [
    {
     "data": {
      "text/plain": [
       "<AxesSubplot:xlabel='Target', ylabel='Count'>"
      ]
     },
     "execution_count": 518,
     "metadata": {},
     "output_type": "execute_result"
    },
    {
     "data": {
      "image/png": "[encoded data removed]",
      "text/plain": [
       "<Figure size 2500x500 with 1 Axes>"
      ]
     },
     "metadata": {},
     "output_type": "display_data"
    }
   ],
   "source": [
    "sns.histplot(df['Target'], bins=20)"
   ]
  },
  {
   "attachments": {},
   "cell_type": "markdown",
   "metadata": {},
   "source": [
    "### Explore the Features ###"
   ]
  },
  {
   "attachments": {},
   "cell_type": "markdown",
   "metadata": {},
   "source": [
    "Most likely will group less common values together as 'Other' since they are not representative of a larger sample. Will iterate through value_counts() and sort through values to determine how clean the data. Value_counts and sort_values, etc will not be shown every time to save space."
   ]
  },
  {
   "cell_type": "code",
   "execution_count": 519,
   "metadata": {},
   "outputs": [
    {
     "name": "stdout",
     "output_type": "stream",
     "text": [
      "<class 'pandas.core.frame.DataFrame'>\n",
      "RangeIndex: 1240 entries, 0 to 1239\n",
      "Data columns (total 20 columns):\n",
      " #   Column                                                  Non-Null Count  Dtype  \n",
      "---  ------                                                  --------------  -----  \n",
      " 0   index                                                   1240 non-null   int64  \n",
      " 1   Timestamp                                               1240 non-null   object \n",
      " 2   Age                                                     1215 non-null   float64\n",
      " 3   Gender                                                  1231 non-null   object \n",
      " 4   City                                                    1240 non-null   object \n",
      " 5   Position                                                1235 non-null   object \n",
      " 6   Total years of experience                               1225 non-null   object \n",
      " 7   Years of experience in Germany                          1210 non-null   object \n",
      " 8   Seniority level                                         1229 non-null   object \n",
      " 9   Your main technology / programming language             1116 non-null   object \n",
      " 10  Other technologies/programming languages you use often  1088 non-null   object \n",
      " 11  Salary                                                  1240 non-null   float64\n",
      " 12  Bonus                                                   1240 non-null   float64\n",
      " 13  Number of vacation days                                 1175 non-null   object \n",
      " 14  Employment status                                       1224 non-null   object \n",
      " 15  Сontract duration                                       1214 non-null   object \n",
      " 16  Main language at work                                   1225 non-null   object \n",
      " 17  Company size                                            1224 non-null   object \n",
      " 18  Company type                                            1217 non-null   object \n",
      " 19  Target                                                  1240 non-null   float64\n",
      "dtypes: float64(4), int64(1), object(15)\n",
      "memory usage: 193.9+ KB\n"
     ]
    }
   ],
   "source": [
    "df.info()"
   ]
  },
  {
   "cell_type": "code",
   "execution_count": 520,
   "metadata": {},
   "outputs": [],
   "source": [
    "# Function to replace values that don't appear very often\n",
    "# From Akeem's sample_exploration\n",
    "def replace_low_freq(d, col, threshold=10, replacement='other'):\n",
    "    value_counts = d[col].value_counts() \n",
    "    to_remove = value_counts[value_counts <= threshold].index\n",
    "    tmp = d[col].replace(to_replace=to_remove, value=replacement)\n",
    "    return tmp"
   ]
  },
  {
   "attachments": {},
   "cell_type": "markdown",
   "metadata": {},
   "source": [
    "#### Timestamp ####"
   ]
  },
  {
   "cell_type": "code",
   "execution_count": 521,
   "metadata": {},
   "outputs": [
    {
     "data": {
      "text/plain": [
       "0       24/11/2020 11:14:15\n",
       "1       24/11/2020 11:14:16\n",
       "2       24/11/2020 11:14:21\n",
       "3       24/11/2020 11:15:24\n",
       "4       24/11/2020 11:15:46\n",
       "               ...         \n",
       "1235    18/01/2021 15:05:50\n",
       "1236    18/01/2021 17:46:02\n",
       "1237    18/01/2021 23:20:35\n",
       "1238    19/01/2021 10:17:58\n",
       "1239    19/01/2021 12:01:11\n",
       "Name: Timestamp, Length: 1240, dtype: object"
      ]
     },
     "execution_count": 521,
     "metadata": {},
     "output_type": "execute_result"
    }
   ],
   "source": [
    "df['Timestamp']"
   ]
  },
  {
   "attachments": {},
   "cell_type": "markdown",
   "metadata": {},
   "source": [
    "Timestamp doesn't look super useful. Values seem to be within a year or two. Seems like values for when the data was entered."
   ]
  },
  {
   "cell_type": "code",
   "execution_count": 522,
   "metadata": {},
   "outputs": [],
   "source": [
    "# Drop Timestamp column\n",
    "df = df.drop(columns=['Timestamp'])"
   ]
  },
  {
   "attachments": {},
   "cell_type": "markdown",
   "metadata": {},
   "source": [
    "#### Gender ####"
   ]
  },
  {
   "attachments": {},
   "cell_type": "markdown",
   "metadata": {},
   "source": [
    "From value counts, majority are Male or Female, some are Diverse or NaN. Since Diverse and NaN are few we will group them into Other."
   ]
  },
  {
   "cell_type": "code",
   "execution_count": 523,
   "metadata": {},
   "outputs": [],
   "source": [
    "df['Gender'] = df['Gender'].fillna('Other Gender')\n",
    "df['Gender'] = df['Gender'].replace('Diverse', 'Other Gender')"
   ]
  },
  {
   "attachments": {},
   "cell_type": "markdown",
   "metadata": {},
   "source": [
    "#### City ####"
   ]
  },
  {
   "attachments": {},
   "cell_type": "markdown",
   "metadata": {},
   "source": [
    "From df.info, City doesn't seem to have nulls. We will try to group the less common cities together into 'Other Cities'."
   ]
  },
  {
   "cell_type": "code",
   "execution_count": 524,
   "metadata": {},
   "outputs": [
    {
     "data": {
      "text/plain": [
       "118"
      ]
     },
     "execution_count": 524,
     "metadata": {},
     "output_type": "execute_result"
    }
   ],
   "source": [
    "df['City'].nunique()"
   ]
  },
  {
   "cell_type": "code",
   "execution_count": 525,
   "metadata": {},
   "outputs": [],
   "source": [
    "df['City'] = replace_low_freq(df, 'City', 5, 'Other Cities') # Threshold of 5 or less in dataset"
   ]
  },
  {
   "cell_type": "code",
   "execution_count": 526,
   "metadata": {},
   "outputs": [
    {
     "data": {
      "text/plain": [
       "13"
      ]
     },
     "execution_count": 526,
     "metadata": {},
     "output_type": "execute_result"
    }
   ],
   "source": [
    "df['City'].nunique()"
   ]
  },
  {
   "attachments": {},
   "cell_type": "markdown",
   "metadata": {},
   "source": [
    "#### Position ####"
   ]
  },
  {
   "cell_type": "code",
   "execution_count": 527,
   "metadata": {},
   "outputs": [],
   "source": [
    "df['Position '] = replace_low_freq(df, 'Position ', threshold=5, replacement='Other')"
   ]
  },
  {
   "attachments": {},
   "cell_type": "markdown",
   "metadata": {},
   "source": [
    "#### Total Years of Experience ####"
   ]
  },
  {
   "cell_type": "code",
   "execution_count": 528,
   "metadata": {},
   "outputs": [
    {
     "data": {
      "text/plain": [
       "5.5                                                    1\n",
       "383                                                    1\n",
       "6 (not as a data scientist, but as a lab scientist)    1\n",
       "31                                                     1\n",
       "15, thereof 8 as CTO                                   1\n",
       "2,5                                                    1\n",
       "1 (as QA Engineer) / 11 in total                       1\n",
       "24                                                     1\n",
       "29                                                     1\n",
       "28                                                     1\n",
       "7.5                                                    1\n",
       "6.5                                                    1\n",
       "26                                                     1\n",
       "40                                                     1\n",
       "less than year                                         1\n",
       "27                                                     2\n",
       "1,5                                                    2\n",
       "23                                                     2\n",
       "4.5                                                    2\n",
       "1.5                                                    2\n",
       "Name: Total years of experience, dtype: int64"
      ]
     },
     "execution_count": 528,
     "metadata": {},
     "output_type": "execute_result"
    }
   ],
   "source": [
    "df['Total years of experience'].value_counts(ascending=True).head(20)"
   ]
  },
  {
   "attachments": {},
   "cell_type": "markdown",
   "metadata": {},
   "source": [
    "At first glance, a lot (maybe not all) of non-numeric values could be reasonably represented by 0. Also, a lot of european countries use decimal commas. We can try to change the comma into a period."
   ]
  },
  {
   "cell_type": "code",
   "execution_count": 529,
   "metadata": {},
   "outputs": [],
   "source": [
    "def commaDecimal(value):\n",
    "    text = str(value).strip()\n",
    "    if ',' in text:\n",
    "        text = text.replace(',', '.')\n",
    "    try:\n",
    "        num = float(text)\n",
    "        if num > 50:\n",
    "            return np.nan\n",
    "    except ValueError:\n",
    "        num = 0\n",
    "    return num"
   ]
  },
  {
   "cell_type": "code",
   "execution_count": 530,
   "metadata": {},
   "outputs": [],
   "source": [
    "df['Total years of experience'] = df['Total years of experience'].apply(commaDecimal)"
   ]
  },
  {
   "cell_type": "code",
   "execution_count": 531,
   "metadata": {},
   "outputs": [
    {
     "data": {
      "text/plain": [
       "40.0"
      ]
     },
     "execution_count": 531,
     "metadata": {},
     "output_type": "execute_result"
    }
   ],
   "source": [
    "df['Total years of experience'].max()"
   ]
  },
  {
   "attachments": {},
   "cell_type": "markdown",
   "metadata": {},
   "source": [
    "#### Years of Experience in Germany ####"
   ]
  },
  {
   "cell_type": "code",
   "execution_count": 532,
   "metadata": {},
   "outputs": [
    {
     "data": {
      "text/plain": [
       "less than year                                           1\n",
       "0.2                                                      1\n",
       "4,5                                                      1\n",
       "0.9                                                      1\n",
       "25                                                       1\n",
       "26                                                       1\n",
       "< 1                                                      1\n",
       "3 months                                                 1\n",
       "4.5                                                      1\n",
       "4 (in Switzerland), 0 (in Germany)                       1\n",
       "0.8                                                      1\n",
       "0.1                                                      1\n",
       "2.6                                                      1\n",
       "17                                                       1\n",
       "3 (in Poland)                                            1\n",
       "<1                                                       1\n",
       "4 month                                                  1\n",
       "⁰                                                        1\n",
       "0.4                                                      1\n",
       "0,3                                                      1\n",
       "-                                                        1\n",
       "6 (not as a data scientist, but as a lab scientist)      1\n",
       "16                                                       1\n",
       "1,7                                                      1\n",
       "0.25                                                     2\n",
       "3,5                                                      2\n",
       "2,5                                                      2\n",
       "19                                                       2\n",
       "18                                                       2\n",
       "30                                                       3\n",
       "13                                                       4\n",
       "14                                                       5\n",
       "1,5                                                      5\n",
       "0,5                                                      5\n",
       "20                                                       7\n",
       "11                                                       7\n",
       "15                                                       8\n",
       "3.5                                                      9\n",
       "2.5                                                     10\n",
       "12                                                      12\n",
       "0.5                                                     13\n",
       "8                                                       17\n",
       "9                                                       19\n",
       "1.5                                                     24\n",
       "10                                                      29\n",
       "7                                                       36\n",
       "6                                                       69\n",
       "0                                                       98\n",
       "4                                                      120\n",
       "5                                                      139\n",
       "Name: Years of experience in Germany, dtype: int64"
      ]
     },
     "execution_count": 532,
     "metadata": {},
     "output_type": "execute_result"
    }
   ],
   "source": [
    "df['Years of experience in Germany'].value_counts(ascending=True).head(50)"
   ]
  },
  {
   "cell_type": "code",
   "execution_count": 533,
   "metadata": {},
   "outputs": [],
   "source": [
    "# Do same thing as with Years of Experience\n",
    "df['Years of experience in Germany'] = df['Years of experience in Germany'].apply(commaDecimal)"
   ]
  },
  {
   "attachments": {},
   "cell_type": "markdown",
   "metadata": {},
   "source": [
    "#### Seniority Level ####"
   ]
  },
  {
   "cell_type": "code",
   "execution_count": 534,
   "metadata": {},
   "outputs": [],
   "source": [
    "df['Seniority level'] = replace_low_freq(df, 'Seniority level', 5, 'Other')"
   ]
  },
  {
   "attachments": {},
   "cell_type": "markdown",
   "metadata": {},
   "source": [
    "#### Programming Languages ####"
   ]
  },
  {
   "cell_type": "code",
   "execution_count": 535,
   "metadata": {},
   "outputs": [],
   "source": [
    "# Fill null values with empty string \n",
    "df[['Your main technology / programming language', 'Other technologies/programming languages you use often']] = df[['Your main technology / programming language', 'Other technologies/programming languages you use often']].fillna('')"
   ]
  },
  {
   "cell_type": "code",
   "execution_count": 536,
   "metadata": {},
   "outputs": [],
   "source": [
    "# Combine Programming Languages into one column to be used in Count Vectorizer\n",
    "df['ProgrammingLanguages'] = df['Your main technology / programming language'] + ' ' + df['Other technologies/programming languages you use often']"
   ]
  },
  {
   "cell_type": "code",
   "execution_count": 537,
   "metadata": {},
   "outputs": [
    {
     "data": {
      "text/plain": [
       "43      С# Python, C/C++, Javascript / Typescript, .NE...\n",
       "762                                                 Офмф \n",
       "162     yaml Python, PHP, Javascript / Typescript, SQL...\n",
       "1239    yaml Python, AWS, Kubernetes, Docker, terrafor...\n",
       "534       typescript Javascript / Typescript, .NET, Azure\n",
       "                              ...                        \n",
       "429                                                      \n",
       "425                                                      \n",
       "281                                                      \n",
       "93                                                       \n",
       "705                                                      \n",
       "Name: ProgrammingLanguages, Length: 1240, dtype: object"
      ]
     },
     "execution_count": 537,
     "metadata": {},
     "output_type": "execute_result"
    }
   ],
   "source": [
    "df['ProgrammingLanguages'].sort_values(ascending=False)"
   ]
  },
  {
   "cell_type": "code",
   "execution_count": 538,
   "metadata": {},
   "outputs": [],
   "source": [
    "df = df.drop(columns= ['Your main technology / programming language', 'Other technologies/programming languages you use often'])"
   ]
  },
  {
   "attachments": {},
   "cell_type": "markdown",
   "metadata": {},
   "source": [
    "#### Vacation Days ####"
   ]
  },
  {
   "cell_type": "code",
   "execution_count": 539,
   "metadata": {},
   "outputs": [
    {
     "data": {
      "text/plain": [
       "10                                                1\n",
       "30 in contract (but theoretically unlimited)      1\n",
       "Unlimited                                         1\n",
       "16                                                1\n",
       "3                                                 1\n",
       "365                                               1\n",
       "~25                                               1\n",
       "34                                                1\n",
       "50                                                1\n",
       "38                                                1\n",
       "60                                                1\n",
       "24 labour days                                    1\n",
       "37.5                                              1\n",
       "1                                                 1\n",
       "5                                                 1\n",
       "37                                                1\n",
       "39                                                1\n",
       "23+                                               1\n",
       "(no idea)                                         1\n",
       "Unlimited                                         2\n",
       "45                                                2\n",
       "12                                                2\n",
       "15                                                2\n",
       "14                                                2\n",
       "unlimited                                         2\n",
       "unlimited                                         3\n",
       "0                                                 3\n",
       "33                                                3\n",
       "23                                                4\n",
       "40                                                4\n",
       "35                                                4\n",
       "36                                                5\n",
       "31                                                8\n",
       "22                                                8\n",
       "32                                                8\n",
       "21                                               10\n",
       "20                                               13\n",
       "29                                               23\n",
       "24                                               67\n",
       "26                                               70\n",
       "25                                               90\n",
       "27                                              102\n",
       "28                                              231\n",
       "30                                              488\n",
       "Name: Number of vacation days, dtype: int64"
      ]
     },
     "execution_count": 539,
     "metadata": {},
     "output_type": "execute_result"
    }
   ],
   "source": [
    "df['Number of vacation days'].value_counts(ascending=True)"
   ]
  },
  {
   "cell_type": "code",
   "execution_count": 540,
   "metadata": {},
   "outputs": [],
   "source": [
    "# Convert unlimited vacation to 100\n",
    "# Extract numbers from string and concatenate them together\n",
    "# Return float if valid number, else return NaN\n",
    "def vacayNum(value):\n",
    "    text = str(value).strip().lower()\n",
    "    try:\n",
    "        num = float(value)\n",
    "        return num\n",
    "    except ValueError:\n",
    "        if text == 'unlimited':\n",
    "            num = 100\n",
    "        else:\n",
    "            num = ''\n",
    "            for i in text:\n",
    "                if i in '123456890':\n",
    "                    num+=i\n",
    "    if num == '':\n",
    "        return np.nan\n",
    "    else:\n",
    "        return float(num)"
   ]
  },
  {
   "cell_type": "code",
   "execution_count": 541,
   "metadata": {},
   "outputs": [],
   "source": [
    "df['Number of vacation days'] = df['Number of vacation days'].apply(vacayNum)"
   ]
  },
  {
   "attachments": {},
   "cell_type": "markdown",
   "metadata": {},
   "source": [
    "#### Main Langauge at Work ####"
   ]
  },
  {
   "cell_type": "code",
   "execution_count": 542,
   "metadata": {},
   "outputs": [
    {
     "data": {
      "text/plain": [
       "English               1008\n",
       "German                 186\n",
       "Russian                 12\n",
       "Italian                  3\n",
       "Spanish                  3\n",
       "English and German       2\n",
       "Polish                   2\n",
       "Русский                  2\n",
       "Czech                    2\n",
       "50/50                    1\n",
       "Deuglisch                1\n",
       "French                   1\n",
       "both                     1\n",
       "Russian, English         1\n",
       "Name: Main language at work, dtype: int64"
      ]
     },
     "execution_count": 542,
     "metadata": {},
     "output_type": "execute_result"
    }
   ],
   "source": [
    "df['Main language at work'].value_counts()"
   ]
  },
  {
   "attachments": {},
   "cell_type": "markdown",
   "metadata": {},
   "source": [
    "There are some people that have more than one main language at work. However, trying to deal with those values individually won't add a lot of value."
   ]
  },
  {
   "cell_type": "code",
   "execution_count": 543,
   "metadata": {},
   "outputs": [],
   "source": [
    "df['Main language at work'] = replace_low_freq(df, 'Main language at work', threshold=5, replacement='Other')"
   ]
  },
  {
   "attachments": {},
   "cell_type": "markdown",
   "metadata": {},
   "source": [
    "#### Employment Status ####"
   ]
  },
  {
   "cell_type": "code",
   "execution_count": 544,
   "metadata": {},
   "outputs": [
    {
     "data": {
      "text/plain": [
       "Full-time employee                                                                 1180\n",
       "Self-employed (freelancer)                                                           26\n",
       "NaN                                                                                  16\n",
       "Part-time employee                                                                    8\n",
       "Founder                                                                               3\n",
       "Company Director                                                                      1\n",
       "working student                                                                       1\n",
       "Working Student                                                                       1\n",
       "Full-time position, part-time position, & self-employed (freelancing, tutoring)       1\n",
       "Intern                                                                                1\n",
       "full-time, but 32 hours per week (it was my request, I'm a student)                   1\n",
       "Werkstudent                                                                           1\n",
       "Name: Employment status, dtype: int64"
      ]
     },
     "execution_count": 544,
     "metadata": {},
     "output_type": "execute_result"
    }
   ],
   "source": [
    "df['Employment status'].value_counts(dropna=False)"
   ]
  },
  {
   "cell_type": "code",
   "execution_count": 545,
   "metadata": {},
   "outputs": [],
   "source": [
    "df['Employment status'] = replace_low_freq(df, 'Employment status', threshold=2, replacement='Other Employment Status')"
   ]
  },
  {
   "attachments": {},
   "cell_type": "markdown",
   "metadata": {},
   "source": [
    "#### Contract Duration ####"
   ]
  },
  {
   "cell_type": "code",
   "execution_count": 546,
   "metadata": {},
   "outputs": [
    {
     "data": {
      "text/plain": [
       "Unlimited contract    1151\n",
       "Temporary contract      63\n",
       "Name: Сontract duration, dtype: int64"
      ]
     },
     "execution_count": 546,
     "metadata": {},
     "output_type": "execute_result"
    }
   ],
   "source": [
    "df['Сontract duration'].value_counts()"
   ]
  },
  {
   "attachments": {},
   "cell_type": "markdown",
   "metadata": {},
   "source": [
    "#### Company Type ####"
   ]
  },
  {
   "cell_type": "code",
   "execution_count": 547,
   "metadata": {},
   "outputs": [
    {
     "data": {
      "text/plain": [
       "Product                754\n",
       "Startup                248\n",
       "Consulting / Agency    141\n",
       "Bank                     5\n",
       "Media                    3\n",
       "                      ... \n",
       "Publisher                1\n",
       "Energy                   1\n",
       "Enterprise               1\n",
       "service                  1\n",
       "eCommerce                1\n",
       "Name: Company type, Length: 63, dtype: int64"
      ]
     },
     "execution_count": 547,
     "metadata": {},
     "output_type": "execute_result"
    }
   ],
   "source": [
    "df['Company type'].value_counts()"
   ]
  },
  {
   "cell_type": "code",
   "execution_count": 548,
   "metadata": {},
   "outputs": [],
   "source": [
    "df['Company type'] = replace_low_freq(df, 'Company type', threshold=2, replacement='Other Company Type')"
   ]
  },
  {
   "attachments": {},
   "cell_type": "markdown",
   "metadata": {},
   "source": [
    "#### Last Data Cleanup Steps Before Model ####"
   ]
  },
  {
   "cell_type": "code",
   "execution_count": 549,
   "metadata": {},
   "outputs": [
    {
     "name": "stdout",
     "output_type": "stream",
     "text": [
      "<class 'pandas.core.frame.DataFrame'>\n",
      "RangeIndex: 1240 entries, 0 to 1239\n",
      "Data columns (total 18 columns):\n",
      " #   Column                          Non-Null Count  Dtype  \n",
      "---  ------                          --------------  -----  \n",
      " 0   index                           1240 non-null   int64  \n",
      " 1   Age                             1215 non-null   float64\n",
      " 2   Gender                          1240 non-null   object \n",
      " 3   City                            1240 non-null   object \n",
      " 4   Position                        1235 non-null   object \n",
      " 5   Total years of experience       1224 non-null   float64\n",
      " 6   Years of experience in Germany  1210 non-null   float64\n",
      " 7   Seniority level                 1229 non-null   object \n",
      " 8   Salary                          1240 non-null   float64\n",
      " 9   Bonus                           1240 non-null   float64\n",
      " 10  Number of vacation days         1174 non-null   float64\n",
      " 11  Employment status               1224 non-null   object \n",
      " 12  Сontract duration               1214 non-null   object \n",
      " 13  Main language at work           1225 non-null   object \n",
      " 14  Company size                    1224 non-null   object \n",
      " 15  Company type                    1217 non-null   object \n",
      " 16  Target                          1240 non-null   float64\n",
      " 17  ProgrammingLanguages            1240 non-null   object \n",
      "dtypes: float64(7), int64(1), object(10)\n",
      "memory usage: 174.5+ KB\n"
     ]
    }
   ],
   "source": [
    "df.info()"
   ]
  },
  {
   "attachments": {},
   "cell_type": "markdown",
   "metadata": {},
   "source": [
    "Impute missing values in categorical features. Numerical features handled by pipeline"
   ]
  },
  {
   "cell_type": "code",
   "execution_count": 550,
   "metadata": {},
   "outputs": [
    {
     "name": "stdout",
     "output_type": "stream",
     "text": [
      "Male\n",
      "Berlin\n",
      "Software Engineer\n",
      "Senior\n",
      "Full-time employee\n",
      "Unlimited contract\n",
      "English\n",
      "1000+\n",
      "Product\n",
      " \n"
     ]
    }
   ],
   "source": [
    "# Categorical features impute with mode\n",
    "for column in df.select_dtypes(exclude=np.number).columns.to_list():\n",
    "    print(df[column].value_counts().idxmax())\n",
    "    df[column] = df[column].fillna(df[column].value_counts().idxmax())"
   ]
  },
  {
   "cell_type": "code",
   "execution_count": 565,
   "metadata": {},
   "outputs": [],
   "source": [
    "# sns.pairplot(data=df)"
   ]
  },
  {
   "attachments": {},
   "cell_type": "markdown",
   "metadata": {},
   "source": [
    "Use CountVectorizer to One-hot encode programming languages"
   ]
  },
  {
   "cell_type": "code",
   "execution_count": 552,
   "metadata": {},
   "outputs": [
    {
     "name": "stdout",
     "output_type": "stream",
     "text": [
      "['.js' '.net' 'abap' 'android' 'angular' 'apache' 'aws' 'azure' 'bash' 'c'\n",
      " 'c#' 'c++' 'clojure' 'cloud' 'docker' 'elixir' 'embedded' 'figma' 'gcp'\n",
      " 'go' 'golang' 'google' 'groovy' 'ios' 'java' 'javascript' 'js' 'kotlin'\n",
      " 'kubernetes' 'linux' 'node' 'nodejs' 'objective' 'on' 'perl' 'php'\n",
      " 'python' 'pytorch' 'r' 'react' 'ruby' 'rust' 'sap' 'scala' 'sketch'\n",
      " 'spark' 'sql' 'swift' 'terraform' 'typescript']\n",
      "original: (1240,)\n",
      "vectorized: (1240, 50)\n"
     ]
    }
   ],
   "source": [
    "# CountVectorizer to do One-hot-ish encoding\n",
    "# Token pattern also recognizes things like .NET and C++/C#/C, use top 50 'languages'\n",
    "# Duplicates will be treated as 1 value\n",
    "vec_cv = CountVectorizer(max_features=50, token_pattern=r\"\\.?\\w+[+#]*\", binary=True) \n",
    "tmp = vec_cv.fit_transform(df['ProgrammingLanguages'])\n",
    "tok_cols = vec_cv.get_feature_names_out()\n",
    "tok_df = pd.DataFrame(tmp.toarray(), columns=tok_cols)\n",
    "\n",
    "print(tok_cols)\n",
    "print(\"original:\", df['ProgrammingLanguages'].shape)\n",
    "print(\"vectorized:\", tmp.shape)\n",
    "\n",
    "df = pd.concat([df, tok_df], axis=1) # Add languages as columns to original dataframes"
   ]
  },
  {
   "cell_type": "code",
   "execution_count": 553,
   "metadata": {},
   "outputs": [],
   "source": [
    "# Drop redundant columns and columns included in target\n",
    "df = df.drop(columns=['ProgrammingLanguages','Salary','Bonus'])"
   ]
  },
  {
   "cell_type": "code",
   "execution_count": 554,
   "metadata": {},
   "outputs": [
    {
     "data": {
      "text/html": [
       "<div>\n",
       "<style scoped>\n",
       "    .dataframe tbody tr th:only-of-type {\n",
       "        vertical-align: middle;\n",
       "    }\n",
       "\n",
       "    .dataframe tbody tr th {\n",
       "        vertical-align: top;\n",
       "    }\n",
       "\n",
       "    .dataframe thead th {\n",
       "        text-align: right;\n",
       "    }\n",
       "</style>\n",
       "<table border=\"1\" class=\"dataframe\">\n",
       "  <thead>\n",
       "    <tr style=\"text-align: right;\">\n",
       "      <th></th>\n",
       "      <th>index</th>\n",
       "      <th>Age</th>\n",
       "      <th>Gender</th>\n",
       "      <th>City</th>\n",
       "      <th>Position</th>\n",
       "      <th>Total years of experience</th>\n",
       "      <th>Years of experience in Germany</th>\n",
       "      <th>Seniority level</th>\n",
       "      <th>Number of vacation days</th>\n",
       "      <th>Employment status</th>\n",
       "      <th>...</th>\n",
       "      <th>ruby</th>\n",
       "      <th>rust</th>\n",
       "      <th>sap</th>\n",
       "      <th>scala</th>\n",
       "      <th>sketch</th>\n",
       "      <th>spark</th>\n",
       "      <th>sql</th>\n",
       "      <th>swift</th>\n",
       "      <th>terraform</th>\n",
       "      <th>typescript</th>\n",
       "    </tr>\n",
       "  </thead>\n",
       "  <tbody>\n",
       "    <tr>\n",
       "      <th>0</th>\n",
       "      <td>0</td>\n",
       "      <td>26.0</td>\n",
       "      <td>Male</td>\n",
       "      <td>Munich</td>\n",
       "      <td>Software Engineer</td>\n",
       "      <td>5.0</td>\n",
       "      <td>3.0</td>\n",
       "      <td>Senior</td>\n",
       "      <td>30.0</td>\n",
       "      <td>Full-time employee</td>\n",
       "      <td>...</td>\n",
       "      <td>0</td>\n",
       "      <td>0</td>\n",
       "      <td>0</td>\n",
       "      <td>0</td>\n",
       "      <td>0</td>\n",
       "      <td>0</td>\n",
       "      <td>0</td>\n",
       "      <td>0</td>\n",
       "      <td>0</td>\n",
       "      <td>1</td>\n",
       "    </tr>\n",
       "    <tr>\n",
       "      <th>1</th>\n",
       "      <td>1</td>\n",
       "      <td>26.0</td>\n",
       "      <td>Male</td>\n",
       "      <td>Berlin</td>\n",
       "      <td>Backend Developer</td>\n",
       "      <td>7.0</td>\n",
       "      <td>4.0</td>\n",
       "      <td>Senior</td>\n",
       "      <td>28.0</td>\n",
       "      <td>Full-time employee</td>\n",
       "      <td>...</td>\n",
       "      <td>1</td>\n",
       "      <td>0</td>\n",
       "      <td>0</td>\n",
       "      <td>0</td>\n",
       "      <td>0</td>\n",
       "      <td>0</td>\n",
       "      <td>0</td>\n",
       "      <td>0</td>\n",
       "      <td>0</td>\n",
       "      <td>0</td>\n",
       "    </tr>\n",
       "    <tr>\n",
       "      <th>2</th>\n",
       "      <td>2</td>\n",
       "      <td>29.0</td>\n",
       "      <td>Male</td>\n",
       "      <td>Berlin</td>\n",
       "      <td>Software Engineer</td>\n",
       "      <td>12.0</td>\n",
       "      <td>6.0</td>\n",
       "      <td>Lead</td>\n",
       "      <td>30.0</td>\n",
       "      <td>Self-employed (freelancer)</td>\n",
       "      <td>...</td>\n",
       "      <td>0</td>\n",
       "      <td>0</td>\n",
       "      <td>0</td>\n",
       "      <td>0</td>\n",
       "      <td>0</td>\n",
       "      <td>0</td>\n",
       "      <td>0</td>\n",
       "      <td>0</td>\n",
       "      <td>0</td>\n",
       "      <td>1</td>\n",
       "    </tr>\n",
       "    <tr>\n",
       "      <th>3</th>\n",
       "      <td>3</td>\n",
       "      <td>28.0</td>\n",
       "      <td>Male</td>\n",
       "      <td>Berlin</td>\n",
       "      <td>Frontend Developer</td>\n",
       "      <td>4.0</td>\n",
       "      <td>1.0</td>\n",
       "      <td>Junior</td>\n",
       "      <td>24.0</td>\n",
       "      <td>Full-time employee</td>\n",
       "      <td>...</td>\n",
       "      <td>0</td>\n",
       "      <td>0</td>\n",
       "      <td>0</td>\n",
       "      <td>0</td>\n",
       "      <td>0</td>\n",
       "      <td>0</td>\n",
       "      <td>0</td>\n",
       "      <td>0</td>\n",
       "      <td>0</td>\n",
       "      <td>0</td>\n",
       "    </tr>\n",
       "    <tr>\n",
       "      <th>4</th>\n",
       "      <td>4</td>\n",
       "      <td>37.0</td>\n",
       "      <td>Male</td>\n",
       "      <td>Berlin</td>\n",
       "      <td>Backend Developer</td>\n",
       "      <td>17.0</td>\n",
       "      <td>6.0</td>\n",
       "      <td>Senior</td>\n",
       "      <td>29.0</td>\n",
       "      <td>Full-time employee</td>\n",
       "      <td>...</td>\n",
       "      <td>0</td>\n",
       "      <td>0</td>\n",
       "      <td>0</td>\n",
       "      <td>0</td>\n",
       "      <td>0</td>\n",
       "      <td>0</td>\n",
       "      <td>1</td>\n",
       "      <td>0</td>\n",
       "      <td>0</td>\n",
       "      <td>0</td>\n",
       "    </tr>\n",
       "  </tbody>\n",
       "</table>\n",
       "<p>5 rows × 65 columns</p>\n",
       "</div>"
      ],
      "text/plain": [
       "   index   Age Gender    City           Position   Total years of experience  \\\n",
       "0      0  26.0   Male  Munich   Software Engineer                        5.0   \n",
       "1      1  26.0   Male  Berlin   Backend Developer                        7.0   \n",
       "2      2  29.0   Male  Berlin   Software Engineer                       12.0   \n",
       "3      3  28.0   Male  Berlin  Frontend Developer                        4.0   \n",
       "4      4  37.0   Male  Berlin   Backend Developer                       17.0   \n",
       "\n",
       "   Years of experience in Germany Seniority level  Number of vacation days  \\\n",
       "0                             3.0          Senior                     30.0   \n",
       "1                             4.0          Senior                     28.0   \n",
       "2                             6.0            Lead                     30.0   \n",
       "3                             1.0          Junior                     24.0   \n",
       "4                             6.0          Senior                     29.0   \n",
       "\n",
       "            Employment status  ... ruby rust sap scala  sketch  spark  sql  \\\n",
       "0          Full-time employee  ...    0    0   0     0       0      0    0   \n",
       "1          Full-time employee  ...    1    0   0     0       0      0    0   \n",
       "2  Self-employed (freelancer)  ...    0    0   0     0       0      0    0   \n",
       "3          Full-time employee  ...    0    0   0     0       0      0    0   \n",
       "4          Full-time employee  ...    0    0   0     0       0      0    1   \n",
       "\n",
       "   swift  terraform  typescript  \n",
       "0      0          0           1  \n",
       "1      0          0           0  \n",
       "2      0          0           1  \n",
       "3      0          0           0  \n",
       "4      0          0           0  \n",
       "\n",
       "[5 rows x 65 columns]"
      ]
     },
     "execution_count": 554,
     "metadata": {},
     "output_type": "execute_result"
    }
   ],
   "source": [
    "df.head()"
   ]
  },
  {
   "attachments": {},
   "cell_type": "markdown",
   "metadata": {},
   "source": [
    "#### Create Model ####"
   ]
  },
  {
   "cell_type": "code",
   "execution_count": 555,
   "metadata": {},
   "outputs": [],
   "source": [
    "# Train test split\n",
    "y = df[\"Target\"]\n",
    "x = df.drop(columns={\"Target\"})\n",
    "x_train, x_test, y_train, y_test = train_test_split(x, y, test_size=0.3)"
   ]
  },
  {
   "cell_type": "code",
   "execution_count": 556,
   "metadata": {},
   "outputs": [],
   "source": [
    "# Preprocessing steps\n",
    "\n",
    "# For numeric features\n",
    "numeric_features_ = df.select_dtypes(include=np.number).columns.to_list() # Select all columns with numeric data, includes programming languages\n",
    "numeric_features_.remove('Target')\n",
    "numeric_transformer_ = Pipeline( steps=[\n",
    "        (\"imputer\", SimpleImputer(strategy=\"median\")),\n",
    "        (\"scaler\", MinMaxScaler())\n",
    "    ])\n",
    "\n",
    "# For categorical features\n",
    "categorical_features_ = df.select_dtypes(exclude=np.number).columns.to_list() # Select all columns without numeric data\n",
    "categorical_transformer_ = OneHotEncoder(handle_unknown='ignore')\n",
    "\n",
    "# Combine into column transformer\n",
    "preprocessor_ = ColumnTransformer( transformers=[\n",
    "        (\"num\", numeric_transformer_, numeric_features_),\n",
    "        (\"cat\", categorical_transformer_, categorical_features_)\n",
    "    ])"
   ]
  },
  {
   "cell_type": "code",
   "execution_count": 557,
   "metadata": {},
   "outputs": [],
   "source": [
    "# Lasso Feature Selection\n",
    "sfm = SelectFromModel(Lasso())"
   ]
  },
  {
   "cell_type": "code",
   "execution_count": 558,
   "metadata": {},
   "outputs": [],
   "source": [
    "# Random Forest for Regression Model\n",
    "estimator = RandomForestRegressor(n_jobs=-1)"
   ]
  },
  {
   "cell_type": "code",
   "execution_count": 559,
   "metadata": {},
   "outputs": [],
   "source": [
    "# Combine preprocessing, selector and estimator\n",
    "# For model with feature selection\n",
    "pipe = Pipeline( steps = [\n",
    "        (\"pre\", preprocessor_),\n",
    "        ('selector', sfm),\n",
    "        (\"forest\", estimator)\n",
    "        ])"
   ]
  },
  {
   "cell_type": "code",
   "execution_count": 560,
   "metadata": {},
   "outputs": [
    {
     "name": "stderr",
     "output_type": "stream",
     "text": [
      "c:\\Users\\dlee2\\anaconda3\\lib\\site-packages\\sklearn\\linear_model\\_coordinate_descent.py:647: ConvergenceWarning: Objective did not converge. You might want to increase the number of iterations, check the scale of the features or consider increasing regularisation. Duality gap: 8.866e+09, tolerance: 1.127e+08\n",
      "  model = cd_fast.enet_coordinate_descent(\n"
     ]
    }
   ],
   "source": [
    "# Grid for GridSearch in model with features selection\n",
    "params_ = {\n",
    "        \"forest__min_samples_leaf\": [i for i in range(2, 6)], \n",
    "        \"forest__n_estimators\": [300, 400],\n",
    "        \"forest__max_features\": [.1, .25, .50],\n",
    "        \"forest__ccp_alpha\": [0, 0.0001, 0.0002],\n",
    "        }\n",
    "# GridSearch with pipe as estimator\n",
    "f1 = GridSearchCV(pipe, param_grid=params_, cv=5, n_jobs=-1) \n",
    "f1.fit(x_train, y_train) # Fit model\n",
    "\n",
    "# Final model with feature selection\n",
    "model_FS = f1.best_estimator_ \n",
    "preds_FS = model_FS.predict(x_test)"
   ]
  },
  {
   "cell_type": "code",
   "execution_count": 561,
   "metadata": {},
   "outputs": [],
   "source": [
    "# Combine preprocessing, selector and estimator\n",
    "# For model with 'no feature selection' \n",
    "pipe2 = Pipeline( steps = [\n",
    "        (\"pre\", preprocessor_),\n",
    "        (\"forest\", estimator)\n",
    "        ])"
   ]
  },
  {
   "cell_type": "code",
   "execution_count": 562,
   "metadata": {},
   "outputs": [],
   "source": [
    "# Grid for GridSearch in model with 'no feature selection'\n",
    "params_2 = {\n",
    "        \"forest__min_samples_leaf\": [i for i in range(2, 6)], \n",
    "        \"forest__n_estimators\": [300, 400],\n",
    "        \"forest__bootstrap\": [False],\n",
    "        \"forest__ccp_alpha\": [0, 0.0001, 0.0002],\n",
    "        }\n",
    "# GridSearch with pip2 as estimator\n",
    "f2 = GridSearchCV(pipe2, param_grid=params_2, cv=5, n_jobs=-1)\n",
    "f2.fit(x_train, y_train) # Fit model\n",
    "\n",
    "# Final model with 'no feature selection'\n",
    "model_noFS = f2.best_estimator_\n",
    "preds_noFS = model_noFS.predict(x_test)"
   ]
  },
  {
   "attachments": {},
   "cell_type": "markdown",
   "metadata": {},
   "source": [
    "# Answers and Explainations\n",
    "\n"
   ]
  },
  {
   "attachments": {},
   "cell_type": "markdown",
   "metadata": {},
   "source": [
    "### Results"
   ]
  },
  {
   "cell_type": "code",
   "execution_count": 563,
   "metadata": {},
   "outputs": [
    {
     "name": "stdout",
     "output_type": "stream",
     "text": [
      "No feature selection model parameters: \n",
      "{'bootstrap': False, 'ccp_alpha': 0, 'criterion': 'squared_error', 'max_depth': None, 'max_features': 'auto', 'max_leaf_nodes': None, 'max_samples': None, 'min_impurity_decrease': 0.0, 'min_samples_leaf': 5, 'min_samples_split': 2, 'min_weight_fraction_leaf': 0.0, 'n_estimators': 400, 'n_jobs': -1, 'oob_score': False, 'random_state': None, 'verbose': 0, 'warm_start': False}\n",
      "\n",
      "Training Score: \n",
      "R2: 0.5837842336173328\n",
      "\n",
      "Testing Score: \n",
      "R2: 0.09571054539282076\n",
      "MSE: 1320210979.1670854\n"
     ]
    }
   ],
   "source": [
    "# Scores for model 'without feature selection'\n",
    "print('No feature selection model parameters: ')\n",
    "print(model_noFS[1].get_params())\n",
    "print()\n",
    "print('Training Score: ')\n",
    "print('R2:', model_noFS.score(x_train, y_train))\n",
    "print()\n",
    "print('Testing Score: ')\n",
    "print('R2:', model_noFS.score(x_test, y_test))\n",
    "print('MSE:', mean_squared_error(y_test, preds_noFS))\n"
   ]
  },
  {
   "cell_type": "code",
   "execution_count": 564,
   "metadata": {},
   "outputs": [
    {
     "name": "stdout",
     "output_type": "stream",
     "text": [
      "Feature selection model parameters: \n",
      "{'bootstrap': True, 'ccp_alpha': 0, 'criterion': 'squared_error', 'max_depth': None, 'max_features': 0.25, 'max_leaf_nodes': None, 'max_samples': None, 'min_impurity_decrease': 0.0, 'min_samples_leaf': 5, 'min_samples_split': 2, 'min_weight_fraction_leaf': 0.0, 'n_estimators': 300, 'n_jobs': -1, 'oob_score': False, 'random_state': None, 'verbose': 0, 'warm_start': False}\n",
      "\n",
      "Training Score: \n",
      "R2: 0.5146617802367215\n",
      "\n",
      "Testing Score: \n",
      "R2: 0.24296000198783407\n",
      "MSE: 1105235178.793995\n"
     ]
    }
   ],
   "source": [
    "# Scores for model with feature selection\n",
    "print('Feature selection model parameters: ')\n",
    "print(model_FS[2].get_params())\n",
    "print()\n",
    "print('Training Score: ')\n",
    "print('R2:', model_FS.score(x_train, y_train))\n",
    "print()\n",
    "print('Testing Score: ')\n",
    "print('R2:', model_FS.score(x_test, y_test))\n",
    "print('MSE:', mean_squared_error(y_test, preds_FS))"
   ]
  },
  {
   "attachments": {},
   "cell_type": "markdown",
   "metadata": {},
   "source": [
    "Seems like the model with better gridsearch parameters and feature selection options is significantly more accurate. However, test accuracy is still low."
   ]
  },
  {
   "attachments": {},
   "cell_type": "markdown",
   "metadata": {},
   "source": [
    "\n",
    "### Feature Selection Activities\n",
    "\n",
    "<ul>\n",
    "<li> Merge together programming languages used often and other programming languages. Used CountVectorizer to encode each language and set max languages to include. This happens before it enters the pipeline. Used the top 50 languages.\n",
    "<li> By default, RandomForests do some feature selection. By limiting the max_features in the RandomForest and using bootstrapping, it encourages randomness in each tree it creates. When they are all aggregated together, some of the features are ruled out.\n",
    "<li> Tried implementing a feature selection from Lasso in the pipeline before the Forest.\n",
    "<li> Drop Timestamp column since all values are within 2 years and I don't expect it to influence the target drastically.\n",
    "</ul>\n",
    "\n",
    "### Hyperparameter Changes\n",
    "\n",
    "<ul>\n",
    "<li> Model benefited from having more trees (n_estimators), default is 100 but usually acheived best results with 300 or 400 trees.\n",
    "<li> Random Forests probably benefit from having lower ccp_alphas for each tree since their aggregation limits overfitting. best estimator usually had lowest ccp_alpha option so I included 0 to 0.0002\n",
    "<li> Tried limiting min_samples_leaf but usually acheives better results on the lower end. Decided with range of 2-5.\n",
    "<li> Bootstrap = True (default) so trees can further explore features that may not normally be considered when the whole dataset is used. Really bad results when false\n",
    "<li> max_features used decimals to represent fraction of dataset. Best estimator usually used around 0.2 so I used a range of 0.1 to 0.5. More randommness in each sample with lower max_features which is probably good for reducing overfitting."
   ]
  }
 ],
 "metadata": {
  "kernelspec": {
   "display_name": "base",
   "language": "python",
   "name": "python3"
  },
  "language_info": {
   "codemirror_mode": {
    "name": "ipython",
    "version": 3
   },
   "file_extension": ".py",
   "mimetype": "text/x-python",
   "name": "python",
   "nbconvert_exporter": "python",
   "pygments_lexer": "ipython3",
   "version": "3.9.13"
  },
  "orig_nbformat": 4,
  "vscode": {
   "interpreter": {
    "hash": "5a67d3d74f81673499695f5753f7ab28afe8f7c82c0a4946d9a7d056c03b92cf"
   }
  }
 },
 "nbformat": 4,
 "nbformat_minor": 2
}
